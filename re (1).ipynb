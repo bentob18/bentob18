{
 "cells": [
  {
   "cell_type": "code",
   "execution_count": 1,
   "id": "7a29db4b",
   "metadata": {},
   "outputs": [
    {
     "name": "stdout",
     "output_type": "stream",
     "text": [
      "['a arr', 'a a r', 'a arr', 'a a r']\n"
     ]
    }
   ],
   "source": [
    "import re\n",
    "\n",
    "txt = \"A aranha arranha a rã. A rã arranha a aranha. Nem a aranha arranha a rã. Nem a rã arranha a aranha.\"\n",
    "\n",
    "# Todos que começam com a tem três caracteres quaisquer no meio e depois r\n",
    "x = re.findall(\"a...r\", txt)\n",
    "print(x)"
   ]
  },
  {
   "cell_type": "code",
   "execution_count": null,
   "id": "55fc3cd4",
   "metadata": {},
   "outputs": [],
   "source": []
  }
 ],
 "metadata": {
  "kernelspec": {
   "display_name": "Python 3 (ipykernel)",
   "language": "python",
   "name": "python3"
  },
  "language_info": {
   "codemirror_mode": {
    "name": "ipython",
    "version": 3
   },
   "file_extension": ".py",
   "mimetype": "text/x-python",
   "name": "python",
   "nbconvert_exporter": "python",
   "pygments_lexer": "ipython3",
   "version": "3.9.7"
  }
 },
 "nbformat": 4,
 "nbformat_minor": 5
}
