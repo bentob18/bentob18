{
 "cells": [
  {
   "cell_type": "code",
   "execution_count": 21,
   "id": "5bf0c64e",
   "metadata": {},
   "outputs": [],
   "source": [
    "# Create list alunos\n",
    "alunos = [\"Bento\", \"Ana\", \"Guilherme\", \"Lucas\", \"Pedro\", \"Aline\", \"Mateus\", \"Hugo\", \"Bernardo\", \"Maria\"]"
   ]
  },
  {
   "cell_type": "code",
   "execution_count": 22,
   "id": "00afd22b",
   "metadata": {
    "scrolled": true
   },
   "outputs": [
    {
     "name": "stdout",
     "output_type": "stream",
     "text": [
      "Nome do aluno 1 : Bento\n",
      "Nome do aluno 2 : Ana\n",
      "Nome do aluno 3 : Guilherme\n",
      "Nome do aluno 4 : Lucas\n",
      "Nome do aluno 5 : Pedro\n",
      "Nome do aluno 6 : Aline\n",
      "Nome do aluno 7 : Mateus\n",
      "Nome do aluno 8 : Hugo\n",
      "Nome do aluno 9 : Bernardo\n",
      "Nome do aluno 10 : Maria\n"
     ]
    }
   ],
   "source": [
    "# Create a for loop to optimize the list\n",
    "for index, alunos in enumerate(alunos) :\n",
    "    print(\"Nome do aluno \" + str(index + 1) + \" : \" + str(alunos))"
   ]
  },
  {
   "cell_type": "code",
   "execution_count": null,
   "id": "89a1b168",
   "metadata": {},
   "outputs": [],
   "source": []
  }
 ],
 "metadata": {
  "kernelspec": {
   "display_name": "Python 3 (ipykernel)",
   "language": "python",
   "name": "python3"
  },
  "language_info": {
   "codemirror_mode": {
    "name": "ipython",
    "version": 3
   },
   "file_extension": ".py",
   "mimetype": "text/x-python",
   "name": "python",
   "nbconvert_exporter": "python",
   "pygments_lexer": "ipython3",
   "version": "3.9.7"
  }
 },
 "nbformat": 4,
 "nbformat_minor": 5
}
