{
 "cells": [
  {
   "cell_type": "code",
   "execution_count": 12,
   "id": "c1b84b5a",
   "metadata": {},
   "outputs": [
    {
     "name": "stdout",
     "output_type": "stream",
     "text": [
      "['name', 'area', 'country_code2', 'country_code3']\n",
      "['Albania', '28748', 'AL', 'ALB']\n",
      "['Algeria', '2381741', 'DZ', 'DZA']\n",
      "['American Samoa', '199', 'AS', 'ASM']\n",
      "['Andorra', '468', 'AD', 'AND']\n",
      "['Angola', '1246700', 'AO', 'AGO']\n"
     ]
    }
   ],
   "source": [
    "import csv\n",
    "with open('countries.csv') as file_obj:\n",
    "    reader_obj = csv.reader(file_obj)\n",
    "    for row in reader_obj:\n",
    "        print(row)"
   ]
  },
  {
   "cell_type": "code",
   "execution_count": 9,
   "id": "d45c41ad",
   "metadata": {},
   "outputs": [],
   "source": []
  },
  {
   "cell_type": "code",
   "execution_count": null,
   "id": "41a15275",
   "metadata": {},
   "outputs": [],
   "source": []
  }
 ],
 "metadata": {
  "kernelspec": {
   "display_name": "Python 3 (ipykernel)",
   "language": "python",
   "name": "python3"
  },
  "language_info": {
   "codemirror_mode": {
    "name": "ipython",
    "version": 3
   },
   "file_extension": ".py",
   "mimetype": "text/x-python",
   "name": "python",
   "nbconvert_exporter": "python",
   "pygments_lexer": "ipython3",
   "version": "3.9.7"
  }
 },
 "nbformat": 4,
 "nbformat_minor": 5
}
