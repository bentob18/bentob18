{
 "cells": [
  {
   "cell_type": "code",
   "execution_count": 1,
   "id": "2237e012",
   "metadata": {},
   "outputs": [
    {
     "name": "stdout",
     "output_type": "stream",
     "text": [
      "120\n"
     ]
    }
   ],
   "source": [
    "class Minha_Classe:\n",
    "    def fatorial(valor):\n",
    "        if valor == 1:\n",
    "            return 1\n",
    "        resultado = valor*Minha_Classe.fatorial(valor-1)\n",
    "        return resultado\n",
    "\n",
    "C1 = Minha_Classe.fatorial(5)\n",
    "print(C1)"
   ]
  },
  {
   "cell_type": "code",
   "execution_count": null,
   "id": "dc662766",
   "metadata": {},
   "outputs": [],
   "source": []
  }
 ],
 "metadata": {
  "kernelspec": {
   "display_name": "Python 3 (ipykernel)",
   "language": "python",
   "name": "python3"
  },
  "language_info": {
   "codemirror_mode": {
    "name": "ipython",
    "version": 3
   },
   "file_extension": ".py",
   "mimetype": "text/x-python",
   "name": "python",
   "nbconvert_exporter": "python",
   "pygments_lexer": "ipython3",
   "version": "3.9.7"
  }
 },
 "nbformat": 4,
 "nbformat_minor": 5
}
