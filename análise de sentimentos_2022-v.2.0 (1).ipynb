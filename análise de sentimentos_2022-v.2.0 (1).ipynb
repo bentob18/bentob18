{
 "cells": [
  {
   "cell_type": "markdown",
   "id": "fd4a9439",
   "metadata": {},
   "source": [
    "# Instalação dos módulos"
   ]
  },
  {
   "cell_type": "code",
   "execution_count": 1,
   "id": "dadc0dda",
   "metadata": {},
   "outputs": [
    {
     "name": "stdout",
     "output_type": "stream",
     "text": [
      "Collecting python-twitter-v2\n",
      "  Using cached python_twitter_v2-0.7.6-py3-none-any.whl (30 kB)\n",
      "Requirement already satisfied: requests<3.0,>=2.24 in c:\\users\\user\\anaconda3\\lib\\site-packages (from python-twitter-v2) (2.26.0)\n",
      "Collecting dataclasses-json<0.6.0,>=0.5.2\n",
      "  Using cached dataclasses_json-0.5.7-py3-none-any.whl (25 kB)\n",
      "Collecting Authlib<0.16.0,>=0.15.4\n",
      "  Using cached Authlib-0.15.5-py2.py3-none-any.whl (203 kB)\n",
      "Requirement already satisfied: cryptography in c:\\users\\user\\anaconda3\\lib\\site-packages (from Authlib<0.16.0,>=0.15.4->python-twitter-v2) (3.4.8)\n",
      "Collecting typing-inspect>=0.4.0\n",
      "  Using cached typing_inspect-0.7.1-py3-none-any.whl (8.4 kB)\n",
      "Collecting marshmallow-enum<2.0.0,>=1.5.1\n",
      "  Using cached marshmallow_enum-1.5.1-py2.py3-none-any.whl (4.2 kB)\n",
      "Collecting marshmallow<4.0.0,>=3.3.0\n",
      "  Using cached marshmallow-3.15.0-py3-none-any.whl (47 kB)\n",
      "Requirement already satisfied: packaging in c:\\users\\user\\anaconda3\\lib\\site-packages (from marshmallow<4.0.0,>=3.3.0->dataclasses-json<0.6.0,>=0.5.2->python-twitter-v2) (21.0)\n",
      "Requirement already satisfied: idna<4,>=2.5 in c:\\users\\user\\anaconda3\\lib\\site-packages (from requests<3.0,>=2.24->python-twitter-v2) (3.2)\n",
      "Requirement already satisfied: charset-normalizer~=2.0.0 in c:\\users\\user\\anaconda3\\lib\\site-packages (from requests<3.0,>=2.24->python-twitter-v2) (2.0.4)\n",
      "Requirement already satisfied: urllib3<1.27,>=1.21.1 in c:\\users\\user\\anaconda3\\lib\\site-packages (from requests<3.0,>=2.24->python-twitter-v2) (1.26.7)\n",
      "Requirement already satisfied: certifi>=2017.4.17 in c:\\users\\user\\anaconda3\\lib\\site-packages (from requests<3.0,>=2.24->python-twitter-v2) (2021.10.8)\n",
      "Requirement already satisfied: typing-extensions>=3.7.4 in c:\\users\\user\\anaconda3\\lib\\site-packages (from typing-inspect>=0.4.0->dataclasses-json<0.6.0,>=0.5.2->python-twitter-v2) (3.10.0.2)\n",
      "Requirement already satisfied: mypy-extensions>=0.3.0 in c:\\users\\user\\anaconda3\\lib\\site-packages (from typing-inspect>=0.4.0->dataclasses-json<0.6.0,>=0.5.2->python-twitter-v2) (0.4.3)\n",
      "Requirement already satisfied: cffi>=1.12 in c:\\users\\user\\anaconda3\\lib\\site-packages (from cryptography->Authlib<0.16.0,>=0.15.4->python-twitter-v2) (1.14.6)\n",
      "Requirement already satisfied: pycparser in c:\\users\\user\\anaconda3\\lib\\site-packages (from cffi>=1.12->cryptography->Authlib<0.16.0,>=0.15.4->python-twitter-v2) (2.20)\n",
      "Requirement already satisfied: pyparsing>=2.0.2 in c:\\users\\user\\anaconda3\\lib\\site-packages (from packaging->marshmallow<4.0.0,>=3.3.0->dataclasses-json<0.6.0,>=0.5.2->python-twitter-v2) (3.0.4)\n",
      "Installing collected packages: marshmallow, typing-inspect, marshmallow-enum, dataclasses-json, Authlib, python-twitter-v2\n",
      "Successfully installed Authlib-0.15.5 dataclasses-json-0.5.7 marshmallow-3.15.0 marshmallow-enum-1.5.1 python-twitter-v2-0.7.6 typing-inspect-0.7.1\n",
      "Collecting snscrape\n",
      "  Using cached snscrape-0.4.3.20220106-py3-none-any.whl (59 kB)\n",
      "Requirement already satisfied: beautifulsoup4 in c:\\users\\user\\anaconda3\\lib\\site-packages (from snscrape) (4.10.0)\n",
      "Requirement already satisfied: filelock in c:\\users\\user\\anaconda3\\lib\\site-packages (from snscrape) (3.3.1)\n",
      "Requirement already satisfied: requests[socks] in c:\\users\\user\\anaconda3\\lib\\site-packages (from snscrape) (2.26.0)\n",
      "Requirement already satisfied: lxml in c:\\users\\user\\anaconda3\\lib\\site-packages (from snscrape) (4.6.3)\n",
      "Requirement already satisfied: soupsieve>1.2 in c:\\users\\user\\anaconda3\\lib\\site-packages (from beautifulsoup4->snscrape) (2.2.1)\n",
      "Requirement already satisfied: certifi>=2017.4.17 in c:\\users\\user\\anaconda3\\lib\\site-packages (from requests[socks]->snscrape) (2021.10.8)\n",
      "Requirement already satisfied: urllib3<1.27,>=1.21.1 in c:\\users\\user\\anaconda3\\lib\\site-packages (from requests[socks]->snscrape) (1.26.7)\n",
      "Requirement already satisfied: charset-normalizer~=2.0.0 in c:\\users\\user\\anaconda3\\lib\\site-packages (from requests[socks]->snscrape) (2.0.4)\n",
      "Requirement already satisfied: idna<4,>=2.5 in c:\\users\\user\\anaconda3\\lib\\site-packages (from requests[socks]->snscrape) (3.2)\n",
      "Requirement already satisfied: PySocks!=1.5.7,>=1.5.6 in c:\\users\\user\\anaconda3\\lib\\site-packages (from requests[socks]->snscrape) (1.7.1)\n",
      "Installing collected packages: snscrape\n",
      "Successfully installed snscrape-0.4.3.20220106\n",
      "Requirement already satisfied: nltk in c:\\users\\user\\anaconda3\\lib\\site-packages (3.6.5)\n",
      "Requirement already satisfied: click in c:\\users\\user\\anaconda3\\lib\\site-packages (from nltk) (8.0.3)\n",
      "Requirement already satisfied: joblib in c:\\users\\user\\anaconda3\\lib\\site-packages (from nltk) (1.1.0)\n",
      "Requirement already satisfied: regex>=2021.8.3 in c:\\users\\user\\anaconda3\\lib\\site-packages (from nltk) (2021.8.3)\n",
      "Requirement already satisfied: tqdm in c:\\users\\user\\anaconda3\\lib\\site-packages (from nltk) (4.62.3)\n",
      "Requirement already satisfied: colorama in c:\\users\\user\\anaconda3\\lib\\site-packages (from click->nltk) (0.4.4)\n",
      "Requirement already satisfied: pandas in c:\\users\\user\\anaconda3\\lib\\site-packages (1.3.4)\n",
      "Requirement already satisfied: pytz>=2017.3 in c:\\users\\user\\anaconda3\\lib\\site-packages (from pandas) (2021.3)\n",
      "Requirement already satisfied: numpy>=1.17.3 in c:\\users\\user\\anaconda3\\lib\\site-packages (from pandas) (1.20.3)\n",
      "Requirement already satisfied: python-dateutil>=2.7.3 in c:\\users\\user\\anaconda3\\lib\\site-packages (from pandas) (2.8.2)\n",
      "Requirement already satisfied: six>=1.5 in c:\\users\\user\\anaconda3\\lib\\site-packages (from python-dateutil>=2.7.3->pandas) (1.16.0)\n"
     ]
    }
   ],
   "source": [
    "!pip install python-twitter-v2\n",
    "!pip install snscrape\n",
    "!pip install nltk\n",
    "!pip install pandas"
   ]
  },
  {
   "cell_type": "markdown",
   "id": "4c6c5095",
   "metadata": {},
   "source": [
    "# Obtendo os dados "
   ]
  },
  {
   "cell_type": "code",
   "execution_count": 5,
   "id": "be7d21da",
   "metadata": {},
   "outputs": [],
   "source": [
    "import snscrape.modules.twitter as dados\n",
    "import pandas as pd\n",
    "import datetime\n",
    "import nltk"
   ]
  },
  {
   "cell_type": "code",
   "execution_count": 6,
   "id": "c60fa2ab",
   "metadata": {},
   "outputs": [],
   "source": [
    "lista_twittes_bolsonaro = []\n",
    "lista_twittes_lula = []"
   ]
  },
  {
   "cell_type": "code",
   "execution_count": 7,
   "id": "aef48855",
   "metadata": {},
   "outputs": [],
   "source": [
    "data_final = datetime.date.today()\n",
    "data_inicial = '2022-1-1'"
   ]
  },
  {
   "cell_type": "code",
   "execution_count": 8,
   "id": "9ac0834e",
   "metadata": {},
   "outputs": [
    {
     "name": "stderr",
     "output_type": "stream",
     "text": [
      "C:\\Users\\User\\AppData\\Local\\Temp/ipykernel_4548/2838122764.py:4: FutureWarning: username is deprecated, use user.username instead\n",
      "  lista_twittes_bolsonaro.append([tweet.date, tweet.id, tweet.content, tweet.username])\n"
     ]
    }
   ],
   "source": [
    "for i,tweet in enumerate(dados.TwitterSearchScraper(f'{\"Bolsonaro\"} + since:{data_inicial} until:{data_final}').get_items()):\n",
    "    if i>500:\n",
    "        break\n",
    "    lista_twittes_bolsonaro.append([tweet.date, tweet.id, tweet.content, tweet.username])"
   ]
  },
  {
   "cell_type": "code",
   "execution_count": 9,
   "id": "e657e52d",
   "metadata": {},
   "outputs": [
    {
     "name": "stderr",
     "output_type": "stream",
     "text": [
      "C:\\Users\\User\\AppData\\Local\\Temp/ipykernel_4548/3883585577.py:4: FutureWarning: username is deprecated, use user.username instead\n",
      "  lista_twittes_lula.append([tweet.date, tweet.id, tweet.content, tweet.username])\n"
     ]
    }
   ],
   "source": [
    "for i,tweet in enumerate(dados.TwitterSearchScraper(f'{\"Lula\"} + since:{data_inicial} until:{data_final}').get_items()):\n",
    "    if i>500:\n",
    "        break\n",
    "    lista_twittes_lula.append([tweet.date, tweet.id, tweet.content, tweet.username])"
   ]
  },
  {
   "cell_type": "code",
   "execution_count": 10,
   "id": "7a4dcf54",
   "metadata": {},
   "outputs": [],
   "source": [
    "df_bolsonaro = pd.DataFrame(lista_twittes_bolsonaro, columns=['Datetime', 'Tweet Id', 'Text', 'Username'])\n",
    "df_lula = pd.DataFrame(lista_twittes_lula, columns=['Datetime', 'Tweet Id', 'Text', 'Username'])"
   ]
  },
  {
   "cell_type": "code",
   "execution_count": 11,
   "id": "19badfaf",
   "metadata": {},
   "outputs": [],
   "source": [
    "df = pd.merge(df_bolsonaro, df_lula, how = 'outer')"
   ]
  },
  {
   "cell_type": "code",
   "execution_count": 12,
   "id": "eb5e319b",
   "metadata": {},
   "outputs": [
    {
     "data": {
      "text/html": [
       "<div>\n",
       "<style scoped>\n",
       "    .dataframe tbody tr th:only-of-type {\n",
       "        vertical-align: middle;\n",
       "    }\n",
       "\n",
       "    .dataframe tbody tr th {\n",
       "        vertical-align: top;\n",
       "    }\n",
       "\n",
       "    .dataframe thead th {\n",
       "        text-align: right;\n",
       "    }\n",
       "</style>\n",
       "<table border=\"1\" class=\"dataframe\">\n",
       "  <thead>\n",
       "    <tr style=\"text-align: right;\">\n",
       "      <th></th>\n",
       "      <th>Datetime</th>\n",
       "      <th>Tweet Id</th>\n",
       "      <th>Text</th>\n",
       "      <th>Username</th>\n",
       "    </tr>\n",
       "  </thead>\n",
       "  <tbody>\n",
       "    <tr>\n",
       "      <th>526</th>\n",
       "      <td>2022-05-19 23:59:21+00:00</td>\n",
       "      <td>1527438794877722633</td>\n",
       "      <td>o filho da rihanna é lula 202/</td>\n",
       "      <td>chaerysblog</td>\n",
       "    </tr>\n",
       "    <tr>\n",
       "      <th>511</th>\n",
       "      <td>2022-05-19 23:59:42+00:00</td>\n",
       "      <td>1527438880500244485</td>\n",
       "      <td>@LulaOficial https://t.co/vOlDQgzmRP</td>\n",
       "      <td>AlfredoMuniz4</td>\n",
       "    </tr>\n",
       "    <tr>\n",
       "      <th>950</th>\n",
       "      <td>2022-05-19 23:52:53+00:00</td>\n",
       "      <td>1527437165168410633</td>\n",
       "      <td>@helder_rsilva @verdadenarede @LulaOficial E é...</td>\n",
       "      <td>SRMA95635002</td>\n",
       "    </tr>\n",
       "    <tr>\n",
       "      <th>412</th>\n",
       "      <td>2022-05-19 23:53:38+00:00</td>\n",
       "      <td>1527437356520947715</td>\n",
       "      <td>@biabionica Te contar, perdi muitos streaming ...</td>\n",
       "      <td>TodaNayumi</td>\n",
       "    </tr>\n",
       "    <tr>\n",
       "      <th>904</th>\n",
       "      <td>2022-05-19 23:53:36+00:00</td>\n",
       "      <td>1527437345070497805</td>\n",
       "      <td>@juninhodopt @alexandrekalil @LulaOficial #Vam...</td>\n",
       "      <td>DedeLulista</td>\n",
       "    </tr>\n",
       "    <tr>\n",
       "      <th>262</th>\n",
       "      <td>2022-05-19 23:56:03+00:00</td>\n",
       "      <td>1527437964908847116</td>\n",
       "      <td>@ozielmeloPB @jairbolsonaro 1 \\nBolsonaro até ...</td>\n",
       "      <td>CristhinneDe</td>\n",
       "    </tr>\n",
       "    <tr>\n",
       "      <th>707</th>\n",
       "      <td>2022-05-19 23:56:41+00:00</td>\n",
       "      <td>1527438120853069834</td>\n",
       "      <td>Lula do Santos https://t.co/rAnETZPLTI</td>\n",
       "      <td>bequebomdebola</td>\n",
       "    </tr>\n",
       "    <tr>\n",
       "      <th>838</th>\n",
       "      <td>2022-05-19 23:54:35+00:00</td>\n",
       "      <td>1527437593801023494</td>\n",
       "      <td>@accajuh @nop_lunita o bozo n se paga de bonzi...</td>\n",
       "      <td>CriadorMago</td>\n",
       "    </tr>\n",
       "    <tr>\n",
       "      <th>958</th>\n",
       "      <td>2022-05-19 23:52:43+00:00</td>\n",
       "      <td>1527437125708398604</td>\n",
       "      <td>@cirogomes A solução é @LulaOficial no 1o turno</td>\n",
       "      <td>soniadezute</td>\n",
       "    </tr>\n",
       "    <tr>\n",
       "      <th>692</th>\n",
       "      <td>2022-05-19 23:56:49+00:00</td>\n",
       "      <td>1527438156961832966</td>\n",
       "      <td>@gilbertogil @LulaOficial @JanjaLula @Floragil...</td>\n",
       "      <td>CludiaSobreira2</td>\n",
       "    </tr>\n",
       "  </tbody>\n",
       "</table>\n",
       "</div>"
      ],
      "text/plain": [
       "                     Datetime             Tweet Id  \\\n",
       "526 2022-05-19 23:59:21+00:00  1527438794877722633   \n",
       "511 2022-05-19 23:59:42+00:00  1527438880500244485   \n",
       "950 2022-05-19 23:52:53+00:00  1527437165168410633   \n",
       "412 2022-05-19 23:53:38+00:00  1527437356520947715   \n",
       "904 2022-05-19 23:53:36+00:00  1527437345070497805   \n",
       "262 2022-05-19 23:56:03+00:00  1527437964908847116   \n",
       "707 2022-05-19 23:56:41+00:00  1527438120853069834   \n",
       "838 2022-05-19 23:54:35+00:00  1527437593801023494   \n",
       "958 2022-05-19 23:52:43+00:00  1527437125708398604   \n",
       "692 2022-05-19 23:56:49+00:00  1527438156961832966   \n",
       "\n",
       "                                                  Text         Username  \n",
       "526                     o filho da rihanna é lula 202/      chaerysblog  \n",
       "511               @LulaOficial https://t.co/vOlDQgzmRP    AlfredoMuniz4  \n",
       "950  @helder_rsilva @verdadenarede @LulaOficial E é...     SRMA95635002  \n",
       "412  @biabionica Te contar, perdi muitos streaming ...       TodaNayumi  \n",
       "904  @juninhodopt @alexandrekalil @LulaOficial #Vam...      DedeLulista  \n",
       "262  @ozielmeloPB @jairbolsonaro 1 \\nBolsonaro até ...     CristhinneDe  \n",
       "707             Lula do Santos https://t.co/rAnETZPLTI   bequebomdebola  \n",
       "838  @accajuh @nop_lunita o bozo n se paga de bonzi...      CriadorMago  \n",
       "958    @cirogomes A solução é @LulaOficial no 1o turno      soniadezute  \n",
       "692  @gilbertogil @LulaOficial @JanjaLula @Floragil...  CludiaSobreira2  "
      ]
     },
     "execution_count": 12,
     "metadata": {},
     "output_type": "execute_result"
    }
   ],
   "source": [
    "df.sample(10)"
   ]
  },
  {
   "cell_type": "code",
   "execution_count": 13,
   "id": "aed49728",
   "metadata": {},
   "outputs": [
    {
     "name": "stdout",
     "output_type": "stream",
     "text": [
      "Collecting textblob\n",
      "  Downloading textblob-0.17.1-py2.py3-none-any.whl (636 kB)\n",
      "Requirement already satisfied: nltk>=3.1 in c:\\users\\user\\anaconda3\\lib\\site-packages (from textblob) (3.6.5)\n",
      "Requirement already satisfied: click in c:\\users\\user\\anaconda3\\lib\\site-packages (from nltk>=3.1->textblob) (8.0.3)\n",
      "Requirement already satisfied: joblib in c:\\users\\user\\anaconda3\\lib\\site-packages (from nltk>=3.1->textblob) (1.1.0)\n",
      "Requirement already satisfied: regex>=2021.8.3 in c:\\users\\user\\anaconda3\\lib\\site-packages (from nltk>=3.1->textblob) (2021.8.3)\n",
      "Requirement already satisfied: tqdm in c:\\users\\user\\anaconda3\\lib\\site-packages (from nltk>=3.1->textblob) (4.62.3)\n",
      "Requirement already satisfied: colorama in c:\\users\\user\\anaconda3\\lib\\site-packages (from click->nltk>=3.1->textblob) (0.4.4)\n",
      "Installing collected packages: textblob\n",
      "Successfully installed textblob-0.17.1\n",
      "Requirement already satisfied: unidecode in c:\\users\\user\\anaconda3\\lib\\site-packages (1.2.0)\n"
     ]
    }
   ],
   "source": [
    "!pip install textblob\n",
    "!pip install unidecode"
   ]
  },
  {
   "cell_type": "code",
   "execution_count": 14,
   "id": "b42437d5",
   "metadata": {},
   "outputs": [],
   "source": [
    "from textblob import TextBlob\n",
    "from unidecode import unidecode\n"
   ]
  },
  {
   "cell_type": "code",
   "execution_count": 19,
   "id": "15b8b639",
   "metadata": {},
   "outputs": [
    {
     "name": "stdout",
     "output_type": "stream",
     "text": [
      "Collecting translate\n",
      "  Downloading translate-3.6.1-py2.py3-none-any.whl (12 kB)\n",
      "Requirement already satisfied: lxml in c:\\users\\user\\anaconda3\\lib\\site-packages (from translate) (4.6.3)\n",
      "Requirement already satisfied: click in c:\\users\\user\\anaconda3\\lib\\site-packages (from translate) (8.0.3)\n",
      "Collecting libretranslatepy==2.1.1\n",
      "  Downloading libretranslatepy-2.1.1-py3-none-any.whl (3.2 kB)\n",
      "Requirement already satisfied: requests in c:\\users\\user\\anaconda3\\lib\\site-packages (from translate) (2.26.0)\n",
      "Requirement already satisfied: colorama in c:\\users\\user\\anaconda3\\lib\\site-packages (from click->translate) (0.4.4)\n",
      "Requirement already satisfied: idna<4,>=2.5 in c:\\users\\user\\anaconda3\\lib\\site-packages (from requests->translate) (3.2)\n",
      "Requirement already satisfied: charset-normalizer~=2.0.0 in c:\\users\\user\\anaconda3\\lib\\site-packages (from requests->translate) (2.0.4)\n",
      "Requirement already satisfied: urllib3<1.27,>=1.21.1 in c:\\users\\user\\anaconda3\\lib\\site-packages (from requests->translate) (1.26.7)\n",
      "Requirement already satisfied: certifi>=2017.4.17 in c:\\users\\user\\anaconda3\\lib\\site-packages (from requests->translate) (2021.10.8)\n",
      "Installing collected packages: libretranslatepy, translate\n",
      "Successfully installed libretranslatepy-2.1.1 translate-3.6.1\n"
     ]
    },
    {
     "name": "stderr",
     "output_type": "stream",
     "text": [
      "WARNING: Skipping googletrans as it is not installed.\n"
     ]
    },
    {
     "name": "stdout",
     "output_type": "stream",
     "text": [
      "^C\n",
      "Requirement already satisfied: googletrans-temp in c:\\users\\user\\anaconda3\\lib\\site-packages (2.3.0)\n",
      "Requirement already satisfied: requests in c:\\users\\user\\anaconda3\\lib\\site-packages (from googletrans-temp) (2.26.0)\n",
      "Requirement already satisfied: certifi>=2017.4.17 in c:\\users\\user\\anaconda3\\lib\\site-packages (from requests->googletrans-temp) (2021.10.8)\n",
      "Requirement already satisfied: idna<4,>=2.5 in c:\\users\\user\\anaconda3\\lib\\site-packages (from requests->googletrans-temp) (3.2)\n",
      "Requirement already satisfied: urllib3<1.27,>=1.21.1 in c:\\users\\user\\anaconda3\\lib\\site-packages (from requests->googletrans-temp) (1.26.7)\n",
      "Requirement already satisfied: charset-normalizer~=2.0.0 in c:\\users\\user\\anaconda3\\lib\\site-packages (from requests->googletrans-temp) (2.0.4)\n"
     ]
    }
   ],
   "source": [
    "!pip install translate\n",
    "!pip uninstall googletrans -y\n",
    "!pip uninstall googletrans googletrans-temp\n",
    "!pip install googletrans-temp"
   ]
  },
  {
   "cell_type": "code",
   "execution_count": 22,
   "id": "e3219519",
   "metadata": {},
   "outputs": [],
   "source": [
    "import translate as Translator\n",
    "#Contadores de sentimentos positivos e negativos\n",
    "numPos = 0\n",
    "numNeg = 0\n",
    "total = 0"
   ]
  },
  {
   "cell_type": "code",
   "execution_count": 23,
   "id": "c416ade2",
   "metadata": {},
   "outputs": [
    {
     "data": {
      "text/plain": [
       "0      Em solenidade, Bolsonaro e Alexandre de Moraes...\n",
       "1                          @ozielmeloPB @jairbolsonaro 1\n",
       "2      @gpmachado42 Sera que da pra morar em uma mans...\n",
       "3      Passando pra avisar que continuo fechada com m...\n",
       "4      bad ending: bolsonaro eleito https://t.co/Dfql...\n",
       "                             ...                        \n",
       "496    @jairbolsonaro @govbr Cade PIS ano base 2021 S...\n",
       "497    Elon Musk vai se encontrar com Bolsonaro? Talv...\n",
       "498           @BrazilFight @ozielmeloPB @jairbolsonaro 1\n",
       "499    @JovemPanNews \\n\\nO tema de hoje como sempre e...\n",
       "500    Elon Musk vindo pro Brasil pra debater (!) com...\n",
       "Name: Text, Length: 501, dtype: object"
      ]
     },
     "metadata": {},
     "output_type": "display_data"
    }
   ],
   "source": [
    "#Aplicando unidecode aos textos do Tweet\n",
    "textPT = df_bolsonaro['Text'].apply(unidecode)\n",
    "display(textPT)\n"
   ]
  },
  {
   "cell_type": "code",
   "execution_count": 24,
   "id": "afd0949c",
   "metadata": {},
   "outputs": [
    {
     "ename": "TypeError",
     "evalue": "'module' object is not callable",
     "output_type": "error",
     "traceback": [
      "\u001b[1;31m---------------------------------------------------------------------------\u001b[0m",
      "\u001b[1;31mTypeError\u001b[0m                                 Traceback (most recent call last)",
      "\u001b[1;32m~\\AppData\\Local\\Temp/ipykernel_4548/1873457678.py\u001b[0m in \u001b[0;36m<module>\u001b[1;34m\u001b[0m\n\u001b[0;32m      2\u001b[0m \u001b[1;31m#Traduzindo para o Inglês\u001b[0m\u001b[1;33m\u001b[0m\u001b[1;33m\u001b[0m\u001b[0m\n\u001b[0;32m      3\u001b[0m \u001b[1;32mfor\u001b[0m \u001b[0mx\u001b[0m \u001b[1;32min\u001b[0m \u001b[0mtextPT\u001b[0m\u001b[1;33m:\u001b[0m\u001b[1;33m\u001b[0m\u001b[1;33m\u001b[0m\u001b[0m\n\u001b[1;32m----> 4\u001b[1;33m     \u001b[0mtextEN\u001b[0m \u001b[1;33m=\u001b[0m \u001b[0mTranslator\u001b[0m\u001b[1;33m(\u001b[0m\u001b[1;33m)\u001b[0m\u001b[1;33m.\u001b[0m\u001b[0mtranslate\u001b[0m\u001b[1;33m(\u001b[0m\u001b[0mx\u001b[0m\u001b[1;33m)\u001b[0m \u001b[1;31m#traduzindo\u001b[0m\u001b[1;33m\u001b[0m\u001b[1;33m\u001b[0m\u001b[0m\n\u001b[0m\u001b[0;32m      5\u001b[0m     \u001b[0msentimento\u001b[0m \u001b[1;33m=\u001b[0m \u001b[0mTextBlob\u001b[0m\u001b[1;33m(\u001b[0m\u001b[0mtextEN\u001b[0m\u001b[1;33m.\u001b[0m\u001b[0mtext\u001b[0m\u001b[1;33m)\u001b[0m \u001b[1;31m#obtendo o sentimento\u001b[0m\u001b[1;33m\u001b[0m\u001b[1;33m\u001b[0m\u001b[0m\n\u001b[0;32m      6\u001b[0m     \u001b[0msentimento_bolsonaro\u001b[0m\u001b[1;33m.\u001b[0m\u001b[0mappend\u001b[0m\u001b[1;33m(\u001b[0m\u001b[0msentimento\u001b[0m\u001b[1;33m.\u001b[0m\u001b[0mpolarity\u001b[0m\u001b[1;33m)\u001b[0m \u001b[1;31m#adicionando a uma lista\u001b[0m\u001b[1;33m\u001b[0m\u001b[1;33m\u001b[0m\u001b[0m\n",
      "\u001b[1;31mTypeError\u001b[0m: 'module' object is not callable"
     ]
    }
   ],
   "source": [
    "sentimento_bolsonaro = []\n",
    "#Traduzindo para o Inglês\n",
    "for x in textPT:\n",
    "    textEN = Translator().translate(x) #traduzindo\n",
    "    sentimento = TextBlob(textEN.text) #obtendo o sentimento\n",
    "    sentimento_bolsonaro.append(sentimento.polarity) #adicionando a uma lista\n",
    "display(sentimento_bolsonaro)"
   ]
  },
  {
   "cell_type": "code",
   "execution_count": 27,
   "id": "7a4cd713",
   "metadata": {},
   "outputs": [
    {
     "data": {
      "text/plain": [
       "0"
      ]
     },
     "metadata": {},
     "output_type": "display_data"
    }
   ],
   "source": [
    "total = len(sentimento_bolsonaro)\n",
    "display(total)"
   ]
  },
  {
   "cell_type": "code",
   "execution_count": 28,
   "id": "134efbe5",
   "metadata": {},
   "outputs": [],
   "source": [
    "for valor in sentimento_bolsonaro:\n",
    "    if valor > 0: \n",
    "        numPos += 1 \n",
    "    elif valor < 0: \n",
    "        numNeg += 1"
   ]
  },
  {
   "cell_type": "code",
   "execution_count": 29,
   "id": "a4f31e49",
   "metadata": {},
   "outputs": [
    {
     "ename": "ZeroDivisionError",
     "evalue": "division by zero",
     "output_type": "error",
     "traceback": [
      "\u001b[1;31m---------------------------------------------------------------------------\u001b[0m",
      "\u001b[1;31mZeroDivisionError\u001b[0m                         Traceback (most recent call last)",
      "\u001b[1;32m~\\AppData\\Local\\Temp/ipykernel_4548/3761978362.py\u001b[0m in \u001b[0;36m<module>\u001b[1;34m\u001b[0m\n\u001b[1;32m----> 1\u001b[1;33m \u001b[0mmediaPos\u001b[0m \u001b[1;33m=\u001b[0m \u001b[0mnumPos\u001b[0m\u001b[1;33m/\u001b[0m\u001b[0mtotal\u001b[0m\u001b[1;33m\u001b[0m\u001b[1;33m\u001b[0m\u001b[0m\n\u001b[0m\u001b[0;32m      2\u001b[0m \u001b[0mmediaNeg\u001b[0m \u001b[1;33m=\u001b[0m \u001b[0mnumNeg\u001b[0m\u001b[1;33m/\u001b[0m\u001b[0mtotal\u001b[0m\u001b[1;33m\u001b[0m\u001b[1;33m\u001b[0m\u001b[0m\n\u001b[0;32m      3\u001b[0m \u001b[0mprint\u001b[0m\u001b[1;33m(\u001b[0m\u001b[1;34m'Porcentagem de comentários positivos: '\u001b[0m\u001b[1;33m+\u001b[0m\u001b[0mstr\u001b[0m\u001b[1;33m(\u001b[0m\u001b[0mmediaPos\u001b[0m\u001b[1;33m)\u001b[0m\u001b[1;33m)\u001b[0m\u001b[1;33m\u001b[0m\u001b[1;33m\u001b[0m\u001b[0m\n\u001b[0;32m      4\u001b[0m \u001b[0mprint\u001b[0m\u001b[1;33m(\u001b[0m\u001b[1;34m'Porcentagem de comentários negativos: '\u001b[0m\u001b[1;33m+\u001b[0m\u001b[0mstr\u001b[0m\u001b[1;33m(\u001b[0m\u001b[0mmediaNeg\u001b[0m\u001b[1;33m)\u001b[0m\u001b[1;33m)\u001b[0m\u001b[1;33m\u001b[0m\u001b[1;33m\u001b[0m\u001b[0m\n",
      "\u001b[1;31mZeroDivisionError\u001b[0m: division by zero"
     ]
    }
   ],
   "source": [
    "mediaPos = numPos/total\n",
    "mediaNeg = numNeg/total\n",
    "print('Porcentagem de comentários positivos: '+str(mediaPos))\n",
    "print('Porcentagem de comentários negativos: '+str(mediaNeg))"
   ]
  },
  {
   "cell_type": "code",
   "execution_count": 30,
   "id": "76b583e4",
   "metadata": {},
   "outputs": [],
   "source": [
    "#Contadores\n",
    "numPos = 0\n",
    "numNeg = 0\n",
    "total = 0"
   ]
  },
  {
   "cell_type": "code",
   "execution_count": 31,
   "id": "2323122f",
   "metadata": {},
   "outputs": [
    {
     "data": {
      "text/plain": [
       "0      @LulaOficial @ricardostuckert @JanjaLula Felic...\n",
       "1      @FlorRos90100702 @JanjaLula @LulaOficial Deve ...\n",
       "2                   @LulaOficial @ricardostuckert Ladrao\n",
       "3      @thales_gn Nossa, ate hoje eu me lembro do 'Lu...\n",
       "4      Lula esta casado, e bem casado! Enquanto isso,...\n",
       "                             ...                        \n",
       "496    Bancamos a nuestra querida amiga Lula  https:/...\n",
       "497    @LulaOficial @ricardostuckert @JanjaLula Esper...\n",
       "498      @cirogomes A solucao e @LulaOficial no 1o turno\n",
       "499    @alexandrekalil @LulaOficial To aqui agora so ...\n",
       "500    @UOLNoticias puzt. kkkk voce quer que o bandid...\n",
       "Name: Text, Length: 501, dtype: object"
      ]
     },
     "metadata": {},
     "output_type": "display_data"
    }
   ],
   "source": [
    "#Texto do Tweet\n",
    "textPT = df_lula['Text'].apply(unidecode)\n",
    "display(textPT)"
   ]
  },
  {
   "cell_type": "code",
   "execution_count": 32,
   "id": "12015398",
   "metadata": {},
   "outputs": [
    {
     "ename": "TypeError",
     "evalue": "'module' object is not callable",
     "output_type": "error",
     "traceback": [
      "\u001b[1;31m---------------------------------------------------------------------------\u001b[0m",
      "\u001b[1;31mTypeError\u001b[0m                                 Traceback (most recent call last)",
      "\u001b[1;32m~\\AppData\\Local\\Temp/ipykernel_4548/1128586683.py\u001b[0m in \u001b[0;36m<module>\u001b[1;34m\u001b[0m\n\u001b[0;32m      2\u001b[0m \u001b[1;31m#Traduzindo para o Inglês\u001b[0m\u001b[1;33m\u001b[0m\u001b[1;33m\u001b[0m\u001b[0m\n\u001b[0;32m      3\u001b[0m \u001b[1;32mfor\u001b[0m \u001b[0mx\u001b[0m \u001b[1;32min\u001b[0m \u001b[0mtextPT\u001b[0m\u001b[1;33m:\u001b[0m\u001b[1;33m\u001b[0m\u001b[1;33m\u001b[0m\u001b[0m\n\u001b[1;32m----> 4\u001b[1;33m     \u001b[0mtextEN\u001b[0m \u001b[1;33m=\u001b[0m \u001b[0mTranslator\u001b[0m\u001b[1;33m(\u001b[0m\u001b[1;33m)\u001b[0m\u001b[1;33m.\u001b[0m\u001b[0mtranslate\u001b[0m\u001b[1;33m(\u001b[0m\u001b[0mx\u001b[0m\u001b[1;33m)\u001b[0m\u001b[1;33m\u001b[0m\u001b[1;33m\u001b[0m\u001b[0m\n\u001b[0m\u001b[0;32m      5\u001b[0m     \u001b[0msentimento\u001b[0m \u001b[1;33m=\u001b[0m \u001b[0mTextBlob\u001b[0m\u001b[1;33m(\u001b[0m\u001b[0mtextEN\u001b[0m\u001b[1;33m.\u001b[0m\u001b[0mtext\u001b[0m\u001b[1;33m)\u001b[0m\u001b[1;33m\u001b[0m\u001b[1;33m\u001b[0m\u001b[0m\n\u001b[0;32m      6\u001b[0m     \u001b[0msentimento_lula\u001b[0m\u001b[1;33m.\u001b[0m\u001b[0mappend\u001b[0m\u001b[1;33m(\u001b[0m\u001b[0msentimento\u001b[0m\u001b[1;33m.\u001b[0m\u001b[0mpolarity\u001b[0m\u001b[1;33m)\u001b[0m\u001b[1;33m\u001b[0m\u001b[1;33m\u001b[0m\u001b[0m\n",
      "\u001b[1;31mTypeError\u001b[0m: 'module' object is not callable"
     ]
    }
   ],
   "source": [
    "sentimento_lula = []\n",
    "#Traduzindo para o Inglês\n",
    "for x in textPT:\n",
    "    textEN = Translator().translate(x)\n",
    "    sentimento = TextBlob(textEN.text)\n",
    "    sentimento_lula.append(sentimento.polarity)\n",
    "display(sentimento_bolsonaro)"
   ]
  },
  {
   "cell_type": "code",
   "execution_count": null,
   "id": "44e965e8",
   "metadata": {},
   "outputs": [],
   "source": [
    "total = len(sentimento_lula)\n",
    "display(total)"
   ]
  },
  {
   "cell_type": "code",
   "execution_count": null,
   "id": "25315f58",
   "metadata": {},
   "outputs": [],
   "source": [
    "for valor in sentimento_lula:\n",
    "    if valor > 0: \n",
    "        numPos += 1 \n",
    "    elif valor < 0: \n",
    "        numNeg += 1"
   ]
  },
  {
   "cell_type": "code",
   "execution_count": null,
   "id": "05827d26",
   "metadata": {},
   "outputs": [],
   "source": [
    "mediaPos = numPos/total\n",
    "mediaNeg = numNeg/total\n",
    "print('Porcentagem de comentários positivos: '+str(mediaPos))\n",
    "print('Porcentagem de comentários negativos: '+str(mediaNeg))"
   ]
  },
  {
   "cell_type": "code",
   "execution_count": null,
   "id": "19ec8461",
   "metadata": {},
   "outputs": [],
   "source": [
    "\n"
   ]
  }
 ],
 "metadata": {
  "kernelspec": {
   "display_name": "Python 3 (ipykernel)",
   "language": "python",
   "name": "python3"
  },
  "language_info": {
   "codemirror_mode": {
    "name": "ipython",
    "version": 3
   },
   "file_extension": ".py",
   "mimetype": "text/x-python",
   "name": "python",
   "nbconvert_exporter": "python",
   "pygments_lexer": "ipython3",
   "version": "3.9.7"
  }
 },
 "nbformat": 4,
 "nbformat_minor": 5
}
