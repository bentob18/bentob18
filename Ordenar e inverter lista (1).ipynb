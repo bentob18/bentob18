{
 "cells": [
  {
   "cell_type": "code",
   "execution_count": 6,
   "id": "fa3bfce2",
   "metadata": {},
   "outputs": [],
   "source": [
    "# Create a list\n",
    "lista1 =  [3,6,21,1,5,98,4,23,1,6]"
   ]
  },
  {
   "cell_type": "code",
   "execution_count": 8,
   "id": "558762be",
   "metadata": {},
   "outputs": [
    {
     "name": "stdout",
     "output_type": "stream",
     "text": [
      "[98, 23, 21, 6, 6, 5, 4, 3, 1, 1]\n"
     ]
    }
   ],
   "source": [
    "# Sort and reverse your list\n",
    "lista1.sort()\n",
    "lista1.reverse()\n",
    "def myfunction():\n",
    "    print(lista1)\n",
    "myfunction()"
   ]
  },
  {
   "cell_type": "code",
   "execution_count": null,
   "id": "c3bde932",
   "metadata": {},
   "outputs": [],
   "source": []
  }
 ],
 "metadata": {
  "kernelspec": {
   "display_name": "Python 3 (ipykernel)",
   "language": "python",
   "name": "python3"
  },
  "language_info": {
   "codemirror_mode": {
    "name": "ipython",
    "version": 3
   },
   "file_extension": ".py",
   "mimetype": "text/x-python",
   "name": "python",
   "nbconvert_exporter": "python",
   "pygments_lexer": "ipython3",
   "version": "3.9.7"
  }
 },
 "nbformat": 4,
 "nbformat_minor": 5
}
