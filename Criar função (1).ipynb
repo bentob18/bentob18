{
 "cells": [
  {
   "cell_type": "code",
   "execution_count": 6,
   "id": "429d972b",
   "metadata": {},
   "outputs": [
    {
     "name": "stdout",
     "output_type": "stream",
     "text": [
      "Nome: Bento Lemgruber Cesarino Barbosa, Idade: 21\n"
     ]
    }
   ],
   "source": [
    "# Create and print a function\n",
    "def myfunction(nome, idade):\n",
    "    print(\"Nome: \"+ nome + \", \" + \"Idade: \" + idade)\n",
    "\n",
    "myfunction(\"Bento Lemgruber Cesarino Barbosa\", \"21\")"
   ]
  },
  {
   "cell_type": "code",
   "execution_count": null,
   "id": "10f5c179",
   "metadata": {},
   "outputs": [],
   "source": []
  }
 ],
 "metadata": {
  "kernelspec": {
   "display_name": "Python 3 (ipykernel)",
   "language": "python",
   "name": "python3"
  },
  "language_info": {
   "codemirror_mode": {
    "name": "ipython",
    "version": 3
   },
   "file_extension": ".py",
   "mimetype": "text/x-python",
   "name": "python",
   "nbconvert_exporter": "python",
   "pygments_lexer": "ipython3",
   "version": "3.9.7"
  }
 },
 "nbformat": 4,
 "nbformat_minor": 5
}
