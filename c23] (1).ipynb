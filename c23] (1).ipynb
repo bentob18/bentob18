{
 "cells": [
  {
   "cell_type": "code",
   "execution_count": 1,
   "id": "0eff334e",
   "metadata": {},
   "outputs": [
    {
     "name": "stdout",
     "output_type": "stream",
     "text": [
      "-96\n"
     ]
    }
   ],
   "source": [
    "class Minha_Classe:\n",
    "    def menor(lista):\n",
    "        menor_valor = lista[0]\n",
    "        for n in range(len(lista)):\n",
    "            if lista[n] < menor_valor:\n",
    "                menor_valor = lista[n]\n",
    "        return menor_valor\n",
    "\n",
    "minha_lista = [2, -3, 54, 87, -96, 5, 12]\n",
    "C1 = Minha_Classe.menor(minha_lista)\n",
    "print(C1)"
   ]
  },
  {
   "cell_type": "code",
   "execution_count": null,
   "id": "d32f8ebe",
   "metadata": {},
   "outputs": [],
   "source": []
  }
 ],
 "metadata": {
  "kernelspec": {
   "display_name": "Python 3 (ipykernel)",
   "language": "python",
   "name": "python3"
  },
  "language_info": {
   "codemirror_mode": {
    "name": "ipython",
    "version": 3
   },
   "file_extension": ".py",
   "mimetype": "text/x-python",
   "name": "python",
   "nbconvert_exporter": "python",
   "pygments_lexer": "ipython3",
   "version": "3.9.7"
  }
 },
 "nbformat": 4,
 "nbformat_minor": 5
}
