{
 "cells": [
  {
   "cell_type": "code",
   "execution_count": 1,
   "id": "1df4d526",
   "metadata": {},
   "outputs": [
    {
     "name": "stdout",
     "output_type": "stream",
     "text": [
      "37.7\n"
     ]
    }
   ],
   "source": [
    "class Classe:\n",
    "    def circ(raio):\n",
    "        return 2*3.14*raio\n",
    "\n",
    "C1 = Classe.circ(6)\n",
    "print(\"{0:.3g}\".format(C1))"
   ]
  },
  {
   "cell_type": "code",
   "execution_count": null,
   "id": "730290ac",
   "metadata": {},
   "outputs": [],
   "source": []
  }
 ],
 "metadata": {
  "kernelspec": {
   "display_name": "Python 3 (ipykernel)",
   "language": "python",
   "name": "python3"
  },
  "language_info": {
   "codemirror_mode": {
    "name": "ipython",
    "version": 3
   },
   "file_extension": ".py",
   "mimetype": "text/x-python",
   "name": "python",
   "nbconvert_exporter": "python",
   "pygments_lexer": "ipython3",
   "version": "3.9.7"
  }
 },
 "nbformat": 4,
 "nbformat_minor": 5
}
