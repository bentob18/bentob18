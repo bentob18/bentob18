{
 "cells": [
  {
   "cell_type": "code",
   "execution_count": 1,
   "id": "7780513a",
   "metadata": {},
   "outputs": [
    {
     "name": "stdout",
     "output_type": "stream",
     "text": [
      "Números:  [1, 5, 2, 8, 3, 3]\n",
      "Números distintos:  {1, 2, 3, 5, 8}\n"
     ]
    }
   ],
   "source": [
    "# Exemplo de criação de sets.\n",
    "\n",
    "numeros = [1, 5, 2, 8, 3, 3]\n",
    "\n",
    "numeros_distintos = set(numeros)\n",
    "\n",
    "print(\"Números: \", numeros)\n",
    "\n",
    "print(\"Números distintos: \", numeros_distintos)\n",
    "\n"
   ]
  },
  {
   "cell_type": "code",
   "execution_count": null,
   "id": "17e2c13c",
   "metadata": {},
   "outputs": [],
   "source": []
  }
 ],
 "metadata": {
  "kernelspec": {
   "display_name": "Python 3 (ipykernel)",
   "language": "python",
   "name": "python3"
  },
  "language_info": {
   "codemirror_mode": {
    "name": "ipython",
    "version": 3
   },
   "file_extension": ".py",
   "mimetype": "text/x-python",
   "name": "python",
   "nbconvert_exporter": "python",
   "pygments_lexer": "ipython3",
   "version": "3.9.7"
  }
 },
 "nbformat": 4,
 "nbformat_minor": 5
}
