{
 "cells": [
  {
   "cell_type": "code",
   "execution_count": 4,
   "id": "c0883226",
   "metadata": {},
   "outputs": [],
   "source": [
    "import csv\n",
    "\n",
    "header = ['id', 'age', 'color', 'region']\n",
    "data = [\n",
    "    ['1', 28, 'Blue', 'Brazil'],\n",
    "    ['2', 34, 'Red', 'Spain'],\n",
    "    ['3', 19, 'Green', 'Italy'],\n",
    "    ['4', 23, 'Blue', 'Brazil'],\n",
    "    ['5', 28, 'Blue', 'Brazil']\n",
    "]\n",
    "\n",
    "with open('color.csv', 'w', encoding='UTF8', newline='') as f:\n",
    "    writer = csv.writer(f)\n",
    "\n",
    "    # write the header\n",
    "    writer.writerow(header)\n",
    "\n",
    "    # write multiple rows\n",
    "    writer.writerows(data)"
   ]
  },
  {
   "cell_type": "code",
   "execution_count": null,
   "id": "67e981a0",
   "metadata": {},
   "outputs": [],
   "source": []
  }
 ],
 "metadata": {
  "kernelspec": {
   "display_name": "Python 3 (ipykernel)",
   "language": "python",
   "name": "python3"
  },
  "language_info": {
   "codemirror_mode": {
    "name": "ipython",
    "version": 3
   },
   "file_extension": ".py",
   "mimetype": "text/x-python",
   "name": "python",
   "nbconvert_exporter": "python",
   "pygments_lexer": "ipython3",
   "version": "3.9.7"
  }
 },
 "nbformat": 4,
 "nbformat_minor": 5
}
