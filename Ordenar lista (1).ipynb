{
 "cells": [
  {
   "cell_type": "code",
   "execution_count": 1,
   "id": "b39be80c",
   "metadata": {},
   "outputs": [],
   "source": [
    "# Create a list\n",
    "lista1 = [3,6,21,1,5,98,4,23,1,6]"
   ]
  },
  {
   "cell_type": "code",
   "execution_count": 3,
   "id": "da0af2b8",
   "metadata": {},
   "outputs": [
    {
     "name": "stdout",
     "output_type": "stream",
     "text": [
      "[1, 1, 3, 4, 5, 6, 6, 21, 23, 98]\n"
     ]
    }
   ],
   "source": [
    "# Sort the values of your list\n",
    "lista1.sort()\n",
    "def myfunction():\n",
    "    print(lista1)\n",
    "myfunction()"
   ]
  },
  {
   "cell_type": "code",
   "execution_count": null,
   "id": "0c74bf40",
   "metadata": {},
   "outputs": [],
   "source": []
  }
 ],
 "metadata": {
  "kernelspec": {
   "display_name": "Python 3 (ipykernel)",
   "language": "python",
   "name": "python3"
  },
  "language_info": {
   "codemirror_mode": {
    "name": "ipython",
    "version": 3
   },
   "file_extension": ".py",
   "mimetype": "text/x-python",
   "name": "python",
   "nbconvert_exporter": "python",
   "pygments_lexer": "ipython3",
   "version": "3.9.7"
  }
 },
 "nbformat": 4,
 "nbformat_minor": 5
}
